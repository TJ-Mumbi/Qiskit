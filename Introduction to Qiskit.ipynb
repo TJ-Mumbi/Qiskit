{
 "cells": [
  {
   "cell_type": "markdown",
   "id": "c3a1df67",
   "metadata": {},
   "source": [
    "## Circuit Drawing"
   ]
  },
  {
   "cell_type": "code",
   "execution_count": 1,
   "id": "8de5683d",
   "metadata": {},
   "outputs": [],
   "source": [
    "from qiskit import *"
   ]
  },
  {
   "cell_type": "code",
   "execution_count": 35,
   "id": "c8da1eb6",
   "metadata": {},
   "outputs": [],
   "source": [
    "qr = QuantumRegister(3)\n",
    "cr = ClassicalRegister(3)"
   ]
  },
  {
   "cell_type": "code",
   "execution_count": 36,
   "id": "423719a7",
   "metadata": {},
   "outputs": [],
   "source": [
    "circuit = QuantumCircuit(qr, cr)"
   ]
  },
  {
   "cell_type": "code",
   "execution_count": 37,
   "id": "c452741b",
   "metadata": {},
   "outputs": [
    {
     "data": {
      "text/html": [
       "<pre style=\"word-wrap: normal;white-space: pre;background: #fff0;line-height: 1.1;font-family: &quot;Courier New&quot;,Courier,monospace\">       \n",
       "q10_0: \n",
       "       \n",
       "q10_1: \n",
       "       \n",
       "q10_2: \n",
       "       \n",
       " c1_0: \n",
       "       \n",
       " c1_1: \n",
       "       \n",
       " c1_2: \n",
       "       </pre>"
      ],
      "text/plain": [
       "       \n",
       "q10_0: \n",
       "       \n",
       "q10_1: \n",
       "       \n",
       "q10_2: \n",
       "       \n",
       " c1_0: \n",
       "       \n",
       " c1_1: \n",
       "       \n",
       " c1_2: \n",
       "       "
      ]
     },
     "execution_count": 37,
     "metadata": {},
     "output_type": "execute_result"
    }
   ],
   "source": [
    "circuit.draw()"
   ]
  },
  {
   "cell_type": "code",
   "execution_count": 38,
   "id": "e94be274",
   "metadata": {},
   "outputs": [],
   "source": [
    "%matplotlib inline"
   ]
  },
  {
   "cell_type": "code",
   "execution_count": 39,
   "id": "6b456b11",
   "metadata": {},
   "outputs": [],
   "source": [
    "from qiskit import user_config"
   ]
  },
  {
   "cell_type": "code",
   "execution_count": 40,
   "id": "ea7b34fc",
   "metadata": {},
   "outputs": [
    {
     "data": {
      "text/plain": [
       "{}"
      ]
     },
     "execution_count": 40,
     "metadata": {},
     "output_type": "execute_result"
    }
   ],
   "source": [
    "user_config.get_config()"
   ]
  },
  {
   "cell_type": "code",
   "execution_count": 41,
   "id": "ea0a4af5",
   "metadata": {},
   "outputs": [
    {
     "name": "stdout",
     "output_type": "stream",
     "text": [
      "env: QISKIT_SETTINGS=<path to your setting.cong>\n"
     ]
    }
   ],
   "source": [
    "%env QISKIT_SETTINGS <path to your setting.cong>"
   ]
  },
  {
   "cell_type": "code",
   "execution_count": 42,
   "id": "e964f891",
   "metadata": {},
   "outputs": [
    {
     "data": {
      "text/plain": [
       "{'circuit_drawer': 'mpl'}"
      ]
     },
     "execution_count": 42,
     "metadata": {},
     "output_type": "execute_result"
    }
   ],
   "source": [
    "{'circuit_drawer': 'mpl'}"
   ]
  },
  {
   "cell_type": "code",
   "execution_count": 43,
   "id": "6c5f7d5e",
   "metadata": {},
   "outputs": [
    {
     "data": {
      "text/plain": [
       "<qiskit.circuit.instructionset.InstructionSet at 0x17bfd3426a0>"
      ]
     },
     "execution_count": 43,
     "metadata": {},
     "output_type": "execute_result"
    }
   ],
   "source": [
    "circuit.h(qr[0])"
   ]
  },
  {
   "cell_type": "code",
   "execution_count": 44,
   "id": "47c8b654",
   "metadata": {},
   "outputs": [
    {
     "data": {
      "image/png": "[encoded data removed]",
      "text/plain": [
       "<Figure size 172.904x264.88 with 1 Axes>"
      ]
     },
     "execution_count": 44,
     "metadata": {},
     "output_type": "execute_result"
    }
   ],
   "source": [
    "circuit.draw(output='mpl')"
   ]
  },
  {
   "cell_type": "code",
   "execution_count": 45,
   "id": "9eb7d301",
   "metadata": {},
   "outputs": [
    {
     "data": {
      "text/plain": [
       "<qiskit.circuit.instructionset.InstructionSet at 0x17be2c6f2e0>"
      ]
     },
     "execution_count": 45,
     "metadata": {},
     "output_type": "execute_result"
    }
   ],
   "source": [
    "circuit.cx(qr[0], qr[1])"
   ]
  },
  {
   "cell_type": "code",
   "execution_count": 46,
   "id": "39573699",
   "metadata": {},
   "outputs": [
    {
     "data": {
      "image/png": "[encoded data removed]",
      "text/plain": [
       "<Figure size 233.104x264.88 with 1 Axes>"
      ]
     },
     "execution_count": 46,
     "metadata": {},
     "output_type": "execute_result"
    }
   ],
   "source": [
    "circuit.draw(output='mpl')"
   ]
  },
  {
   "cell_type": "markdown",
   "id": "c7b7b32f",
   "metadata": {},
   "source": [
    "## Circuit Measure"
   ]
  },
  {
   "cell_type": "code",
   "execution_count": 47,
   "id": "44f4098a",
   "metadata": {},
   "outputs": [
    {
     "data": {
      "text/plain": [
       "<qiskit.circuit.instructionset.InstructionSet at 0x17be15c7f10>"
      ]
     },
     "execution_count": 47,
     "metadata": {},
     "output_type": "execute_result"
    }
   ],
   "source": [
    "circuit.measure(qr, cr)"
   ]
  },
  {
   "cell_type": "code",
   "execution_count": 48,
   "id": "fd00590f",
   "metadata": {},
   "outputs": [
    {
     "data": {
      "image/png": "[encoded data removed]",
      "text/plain": [
       "<Figure size 353.504x264.88 with 1 Axes>"
      ]
     },
     "execution_count": 48,
     "metadata": {},
     "output_type": "execute_result"
    }
   ],
   "source": [
    "circuit.draw(output='mpl')"
   ]
  },
  {
   "cell_type": "code",
   "execution_count": 49,
   "id": "28d2eb77",
   "metadata": {},
   "outputs": [],
   "source": [
    "simulator = Aer.get_backend('qasm_simulator')"
   ]
  },
  {
   "cell_type": "code",
   "execution_count": 50,
   "id": "a81763e2",
   "metadata": {},
   "outputs": [],
   "source": [
    "result = execute(circuit, backend = simulator).result()"
   ]
  },
  {
   "cell_type": "code",
   "execution_count": 51,
   "id": "6bad9072",
   "metadata": {},
   "outputs": [],
   "source": [
    "from qiskit.tools.visualization import plot_histogram"
   ]
  },
  {
   "cell_type": "code",
   "execution_count": 52,
   "id": "a52bf25c",
   "metadata": {},
   "outputs": [
    {
     "data": {
      "image/png": "[encoded data removed]",
      "text/plain": [
       "<Figure size 504x360 with 1 Axes>"
      ]
     },
     "execution_count": 52,
     "metadata": {},
     "output_type": "execute_result"
    }
   ],
   "source": [
    "plot_histogram(result.get_counts(circuit))"
   ]
  },
  {
   "cell_type": "code",
   "execution_count": 31,
   "id": "e7259d4b",
   "metadata": {},
   "outputs": [
    {
     "data": {
      "text/plain": [
       "<AccountProvider for IBMQ(hub='ibm-q', group='open', project='main')>"
      ]
     },
     "execution_count": 31,
     "metadata": {},
     "output_type": "execute_result"
    }
   ],
   "source": [
    "IBMQ.load_account()"
   ]
  },
  {
   "cell_type": "code",
   "execution_count": 32,
   "id": "8feef413",
   "metadata": {},
   "outputs": [],
   "source": [
    "provider = IBMQ.get_provider('ibm-q')"
   ]
  },
  {
   "cell_type": "code",
   "execution_count": 53,
   "id": "d38b1319",
   "metadata": {},
   "outputs": [],
   "source": [
    "from qiskit.providers.aer import AerSimulator\n",
    "sim = AerSimulator()  # make new simulator object"
   ]
  },
  {
   "cell_type": "code",
   "execution_count": 58,
   "id": "c1ccb7ae",
   "metadata": {},
   "outputs": [],
   "source": [
    "qc = QuantumCircuit"
   ]
  },
  {
   "cell_type": "code",
   "execution_count": 60,
   "id": "666e2df4",
   "metadata": {},
   "outputs": [
    {
     "data": {
      "text/html": [
       "<pre style=\"word-wrap: normal;white-space: pre;background: #fff0;line-height: 1.1;font-family: &quot;Courier New&quot;,Courier,monospace\">     ┌─┐      \n",
       "q_0: ┤M├──────\n",
       "     └╥┘┌─┐   \n",
       "q_1: ─╫─┤M├───\n",
       "      ║ └╥┘┌─┐\n",
       "q_2: ─╫──╫─┤M├\n",
       "      ║  ║ └╥┘\n",
       "c_0: ═╩══╬══╬═\n",
       "         ║  ║ \n",
       "c_1: ════╩══╬═\n",
       "            ║ \n",
       "c_2: ═══════╩═\n",
       "              </pre>"
      ],
      "text/plain": [
       "     ┌─┐      \n",
       "q_0: ┤M├──────\n",
       "     └╥┘┌─┐   \n",
       "q_1: ─╫─┤M├───\n",
       "      ║ └╥┘┌─┐\n",
       "q_2: ─╫──╫─┤M├\n",
       "      ║  ║ └╥┘\n",
       "c_0: ═╩══╬══╬═\n",
       "         ║  ║ \n",
       "c_1: ════╩══╬═\n",
       "            ║ \n",
       "c_2: ═══════╩═\n",
       "              "
      ]
     },
     "execution_count": 60,
     "metadata": {},
     "output_type": "execute_result"
    }
   ],
   "source": [
    "qc = QuantumCircuit(3, 3)\n",
    "# measure qubits 0, 1 & 2 to classical bits 0, 1 & 2 respectively\n",
    "qc.measure([0,1,2], [0,1,2])\n",
    "qc.draw()"
   ]
  },
  {
   "cell_type": "code",
   "execution_count": 61,
   "id": "d83c56ea",
   "metadata": {},
   "outputs": [],
   "source": [
    "from qiskit.providers.aer import AerSimulator\n",
    "sim = AerSimulator()  # make new simulator object"
   ]
  },
  {
   "cell_type": "code",
   "execution_count": 62,
   "id": "8f519cff",
   "metadata": {},
   "outputs": [
    {
     "data": {
      "text/plain": [
       "{'000': 1024}"
      ]
     },
     "execution_count": 62,
     "metadata": {},
     "output_type": "execute_result"
    }
   ],
   "source": [
    "job = sim.run(qc)      # run the experiment\n",
    "result = job.result()  # get the results\n",
    "result.get_counts()    # interpret the results as a \"counts\" dictionary"
   ]
  },
  {
   "cell_type": "code",
   "execution_count": 63,
   "id": "4fbc2f86",
   "metadata": {},
   "outputs": [
    {
     "data": {
      "text/html": [
       "<pre style=\"word-wrap: normal;white-space: pre;background: #fff0;line-height: 1.1;font-family: &quot;Courier New&quot;,Courier,monospace\">     ┌───┐┌─┐   \n",
       "q_0: ┤ X ├┤M├───\n",
       "     ├───┤└╥┘┌─┐\n",
       "q_1: ┤ X ├─╫─┤M├\n",
       "     └┬─┬┘ ║ └╥┘\n",
       "q_2: ─┤M├──╫──╫─\n",
       "      └╥┘  ║  ║ \n",
       "c_0: ══╬═══╩══╬═\n",
       "       ║      ║ \n",
       "c_1: ══╬══════╩═\n",
       "       ║        \n",
       "c_2: ══╩════════\n",
       "                </pre>"
      ],
      "text/plain": [
       "     ┌───┐┌─┐   \n",
       "q_0: ┤ X ├┤M├───\n",
       "     ├───┤└╥┘┌─┐\n",
       "q_1: ┤ X ├─╫─┤M├\n",
       "     └┬─┬┘ ║ └╥┘\n",
       "q_2: ─┤M├──╫──╫─\n",
       "      └╥┘  ║  ║ \n",
       "c_0: ══╬═══╩══╬═\n",
       "       ║      ║ \n",
       "c_1: ══╬══════╩═\n",
       "       ║        \n",
       "c_2: ══╩════════\n",
       "                "
      ]
     },
     "execution_count": 63,
     "metadata": {},
     "output_type": "execute_result"
    }
   ],
   "source": [
    "# Create quantum circuit with 3 qubits and 3 classical bits:\n",
    "qc = QuantumCircuit(3, 3)\n",
    "qc.x([0,1])  # Perform X-gates on qubits 0 & 1\n",
    "qc.measure([0,1,2], [0,1,2])\n",
    "qc.draw()    # returns a drawing of the circuit"
   ]
  },
  {
   "cell_type": "code",
   "execution_count": 64,
   "id": "b1694e04",
   "metadata": {},
   "outputs": [
    {
     "data": {
      "text/plain": [
       "{'011': 1024}"
      ]
     },
     "execution_count": 64,
     "metadata": {},
     "output_type": "execute_result"
    }
   ],
   "source": [
    "job = sim.run(qc)      # run the experiment\n",
    "result = job.result()  # get the results\n",
    "result.get_counts()    # interpret the results as a \"counts\" dictionary"
   ]
  },
  {
   "cell_type": "code",
   "execution_count": null,
   "id": "00d1980d",
   "metadata": {},
   "outputs": [],
   "source": []
  }
 ],
 "metadata": {
  "kernelspec": {
   "display_name": "Python 3 (ipykernel)",
   "language": "python",
   "name": "python3"
  },
  "language_info": {
   "codemirror_mode": {
    "name": "ipython",
    "version": 3
   },
   "file_extension": ".py",
   "mimetype": "text/x-python",
   "name": "python",
   "nbconvert_exporter": "python",
   "pygments_lexer": "ipython3",
   "version": "3.9.12"
  }
 },
 "nbformat": 4,
 "nbformat_minor": 5
}
